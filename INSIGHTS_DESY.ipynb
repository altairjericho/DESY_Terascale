{
 "cells": [
  {
   "cell_type": "code",
   "execution_count": 1,
   "metadata": {
    "scrolled": true
   },
   "outputs": [
    {
     "name": "stderr",
     "output_type": "stream",
     "text": [
      "Using TensorFlow backend.\n"
     ]
    }
   ],
   "source": [
    "import pandas, keras\n",
    "import numpy as np\n",
    "from sklearn.metrics import roc_auc_score\n",
    "import matplotlib.pyplot as plt\n",
    "import gc, os\n",
    "from desy_utils import *"
   ]
  },
  {
   "cell_type": "code",
   "execution_count": 2,
   "metadata": {},
   "outputs": [],
   "source": [
    "from keras.layers import Input, Conv2D, MaxPool2D, Dense, Flatten, Dropout, BatchNormalization, Activation, ZeroPadding2D\n",
    "from keras.models import Model\n",
    "from keras.layers import Concatenate, Add\n",
    "from keras.optimizers import Adam\n",
    "from keras.layers import GRU, Bidirectional\n",
    "from IPython.display import SVG\n",
    "from keras.utils.vis_utils import model_to_dot"
   ]
  },
  {
   "cell_type": "code",
   "execution_count": 3,
   "metadata": {},
   "outputs": [
    {
     "name": "stdout",
     "output_type": "stream",
     "text": [
      "CPU times: user 551 ms, sys: 24.1 ms, total: 575 ms\n",
      "Wall time: 574 ms\n"
     ]
    }
   ],
   "source": [
    "%%time\n",
    "(X_train, sclrs), y_train_ft = load_data('train.h5')\n",
    "gc.collect()\n",
    "images_train, y_train_img = load_data('train_img.h5', images=True)\n",
    "gc.collect()"
   ]
  },
  {
   "cell_type": "code",
   "execution_count": 4,
   "metadata": {},
   "outputs": [
    {
     "name": "stdout",
     "output_type": "stream",
     "text": [
      "image_train:\t (1000, 40, 40, 1)\n",
      "feat_train:\t (1000, 200, 7)\n"
     ]
    }
   ],
   "source": [
    "print('image_train:\\t',images_train.shape)\n",
    "print('feat_train:\\t',X_train.shape)"
   ]
  },
  {
   "cell_type": "code",
   "execution_count": 5,
   "metadata": {},
   "outputs": [
    {
     "data": {
      "text/plain": [
       "<matplotlib.image.AxesImage at 0x7f4ee7135dd8>"
      ]
     },
     "execution_count": 5,
     "metadata": {},
     "output_type": "execute_result"
    },
    {
     "data": {
      "image/png": "[encoded data removed]",
      "text/plain": [
       "<Figure size 432x288 with 1 Axes>"
      ]
     },
     "metadata": {
      "needs_background": "light"
     },
     "output_type": "display_data"
    }
   ],
   "source": [
    "plt.imshow(images_train[400,:,:,0])"
   ]
  },
  {
   "cell_type": "code",
   "execution_count": null,
   "metadata": {},
   "outputs": [],
   "source": [
    "'''\n",
    "Available models:\n",
    "> beast.h5 - CNN + RNN + 50 epochs on validation set (a bit tricky Beast that won the chlng)\n",
    "> cnn.h5 - CNN without any training on validation\n",
    "> trick_nn.h5 - CNN with lots of training on validation\n",
    "> rnn.h5 - RNN trained on preprocessed features, didn't do anything good\n",
    "'''\n",
    "from keras.models import load_model\n",
    "model_beast = load_model('networks/beast.h5')"
   ]
  },
  {
   "cell_type": "code",
   "execution_count": 7,
   "metadata": {},
   "outputs": [],
   "source": [
    "# allows enabling|disabling training for layer weights\n",
    "for layer in model_beast.layers:\n",
    "    layer.trainable = True"
   ]
  },
  {
   "cell_type": "code",
   "execution_count": 8,
   "metadata": {},
   "outputs": [
    {
     "name": "stdout",
     "output_type": "stream",
     "text": [
      "Train on 900 samples, validate on 100 samples\n",
      "Epoch 1/3\n",
      "512/900 [================>.............] - ETA: 1s - loss: 0.2304 - acc: 0.9102\n",
      "Epoch: 0 \troc_auc: 0.9832967032967034 \n",
      "\n",
      "900/900 [==============================] - 2s - loss: 0.2441 - acc: 0.9078 - val_loss: 0.1880 - val_acc: 0.9600\n",
      "Epoch 2/3\n",
      "512/900 [================>.............] - ETA: 0s - loss: 0.2225 - acc: 0.9141\n",
      "Epoch: 1 \troc_auc: 0.9846153846153847 \n",
      "\n",
      "900/900 [==============================] - 0s - loss: 0.2400 - acc: 0.8978 - val_loss: 0.1819 - val_acc: 0.9600\n",
      "Epoch 3/3\n",
      "512/900 [================>.............] - ETA: 0s - loss: 0.2191 - acc: 0.9023\n",
      "Epoch: 2 \troc_auc: 0.9841758241758243 \n",
      "\n",
      "900/900 [==============================] - 0s - loss: 0.2263 - acc: 0.9044 - val_loss: 0.1761 - val_acc: 0.9500\n"
     ]
    }
   ],
   "source": [
    "# example of training with multiple input and usefull callbacks\n",
    "# roc_auc callback is a bit messy, but still informative\n",
    "hist_roc = call_roc_hist()\n",
    "reducer = keras.callbacks.ReduceLROnPlateau(monitor='loss', factor=0.5, patience=5, verbose=1, epsilon=0.002, min_lr=1e-8)\n",
    "hist = model_beast.fit(x=[images_train, X_train], y=keras.utils.to_categorical(y_train_img), batch_size=512, epochs=3, validation_split=0.1, callbacks=[hist_roc, reducer])"
   ]
  },
  {
   "cell_type": "code",
   "execution_count": 9,
   "metadata": {},
   "outputs": [
    {
     "name": "stdout",
     "output_type": "stream",
     "text": [
      "1e-05\n"
     ]
    }
   ],
   "source": [
    "# model parametrs can be changed by hands\n",
    "from keras import backend as K\n",
    "K.set_value(model_beast.optimizer.lr, 1e-5)\n",
    "print(K.get_value(model_beast.optimizer.lr))"
   ]
  },
  {
   "cell_type": "code",
   "execution_count": 10,
   "metadata": {},
   "outputs": [],
   "source": [
    "# Drawing the models scheme into a file\n",
    "from keras.utils import plot_model\n",
    "plot_model(model_beast, to_file='beast.png')"
   ]
  },
  {
   "cell_type": "code",
   "execution_count": null,
   "metadata": {},
   "outputs": [],
   "source": []
  },
  {
   "cell_type": "code",
   "execution_count": 11,
   "metadata": {},
   "outputs": [],
   "source": [
    "_ = '''\n",
    "# Structure of the CNN model (last output layer is not used when we merge models)\n",
    "\n",
    "X_input_im = Input(shape=images_train.shape[1:])\n",
    "\n",
    "X = Conv2D(32, 3, padding='same', activation='relu',input_shape=images_train.shape[1:])(X_input_im)\n",
    "X = Conv2D(32, 3, padding='same')(X)\n",
    "#X = BatchNormalization()(X)\n",
    "X = Activation('relu')(X)\n",
    "X = MaxPool2D(padding='same')(X)\n",
    "X = Dropout(rate=0.7)(X)\n",
    "\n",
    "X = Conv2D(64, 3, padding='same')(X)\n",
    "#X = BatchNormalization()(X)\n",
    "X = Activation('relu')(X)\n",
    "X = MaxPool2D(padding='same')(X)\n",
    "X = Dropout(rate=0.7)(X)\n",
    "\n",
    "X_short = X\n",
    "\n",
    "X = Conv2D(16, 3, padding='same')(X)\n",
    "#X = BatchNormalization()(X)\n",
    "X = Activation('relu')(X)\n",
    "X = Conv2D(16, 3, padding='same')(X)\n",
    "#X = BatchNormalization()(X)\n",
    "X = Activation('relu')(X)\n",
    "X = Conv2D(64, 3, padding='same')(X)\n",
    "#X = BatchNormalization()(X)\n",
    "\n",
    "X = Add()([X, X_short])\n",
    "X = Activation('relu')(X)\n",
    "X = Conv2D(128, 3, padding='same')(X)\n",
    "#X = BatchNormalization()(X)\n",
    "X = Activation('relu')(X)\n",
    "X = MaxPool2D(padding='same')(X)\n",
    "X = Dropout(rate=0.7)(X)\n",
    "\n",
    "X = Flatten()(X)\n",
    "X = Dense(512, activation='relu')(X)\n",
    "X_out = Dense(2, activation='softmax')(X)\n",
    "\n",
    "model_cnn = Model(inputs=X_input_im, outputs=X_out)\n",
    "adamka = Adam(lr=1e-4, decay=1e-6)\n",
    "model_cnn.compile(optimizer=adamka, loss='binary_crossentropy', metrics=['acc'])\n",
    "\n",
    "\n",
    "# Structure of the RNN model (last output layer is not used when we merge models)\n",
    "\n",
    "X_inp_r = Input(shape=(200,7))\n",
    "\n",
    "X = GRU(16, return_sequences=True)(X_inp_r)\n",
    "X = Dropout(0.7)(X)\n",
    "\n",
    "X = GRU(32, return_sequences=True)(X)\n",
    "X = Dropout(0.7)(X)\n",
    "\n",
    "X = Flatten()(X)\n",
    "X = Dense(64, activation='relu')(X)\n",
    "X = Dense(128, activation='relu')(X)\n",
    "X_out_t = Dense(2, activation='softmax', name='class')(X)\n",
    "\n",
    "model_r = Model(inputs=X_inp_r, outputs=X_out_t)\n",
    "adamka = Adam(lr=1e-4, decay=2e-5)\n",
    "model_r.compile(optimizer=adamka, loss='binary_crossentropy', metrics=['acc'])\n",
    "\n",
    "\n",
    "# Merging to models with few additional Dense layers\n",
    "\n",
    "X = Concatenate()([model_cnn.layers[-2].output, model_r.layers[-2].output])\n",
    "print(X.shape)\n",
    "X = Dense(512, activation='relu', name='dense_1_1')(X)\n",
    "X = Dropout(0.7, name='drop_1_1')(X)\n",
    "X = Dense(256, activation='relu', name='dense_2_1')(X)\n",
    "X_out = Dense(2, activation='softmax', name='dense_3_1')(X)\n",
    "\n",
    "model_beast = Model(inputs=[model_cnn.input, model_r.input], outputs=X_out)\n",
    "adamka = Adam(lr=1e-3, decay=1e-6)\n",
    "model_beast.compile(optimizer=adamka, loss='binary_crossentropy', metrics=['acc'])\n",
    "'''"
   ]
  },
  {
   "cell_type": "code",
   "execution_count": null,
   "metadata": {},
   "outputs": [],
   "source": []
  },
  {
   "cell_type": "code",
   "execution_count": null,
   "metadata": {},
   "outputs": [],
   "source": []
  },
  {
   "cell_type": "code",
   "execution_count": 12,
   "metadata": {
    "scrolled": true
   },
   "outputs": [],
   "source": [
    "(X_test, _), y_test_ft = load_data('answ/test_with_truth_100k.h5', scalers=sclrs, training=False, start=None, stop=None)\n",
    "images_test, y_test_img = load_data('answ/test_with_truth_img_100k.h5', images=True, training=False, start=None, stop=None)"
   ]
  },
  {
   "cell_type": "code",
   "execution_count": 13,
   "metadata": {},
   "outputs": [
    {
     "name": "stdout",
     "output_type": "stream",
     "text": [
      "100000/100000 [==============================] - 29s    \n"
     ]
    },
    {
     "data": {
      "text/plain": [
       "0.974311908377977"
      ]
     },
     "execution_count": 13,
     "metadata": {},
     "output_type": "execute_result"
    }
   ],
   "source": [
    "from sklearn.metrics import roc_auc_score\n",
    "res = model_beast.predict([images_test, X_test], batch_size=512, verbose=1)\n",
    "roc_auc_score(y_test_img, res[:,1])"
   ]
  },
  {
   "cell_type": "code",
   "execution_count": null,
   "metadata": {},
   "outputs": [],
   "source": []
  },
  {
   "cell_type": "code",
   "execution_count": 14,
   "metadata": {},
   "outputs": [
    {
     "name": "stdout",
     "output_type": "stream",
     "text": [
      "____________________________________________________________________________________________________\n",
      "Layer (type)                     Output Shape          Param #     Connected to                     \n",
      "====================================================================================================\n",
      "input_3 (InputLayer)             (None, 40, 40, 1)     0                                            \n",
      "____________________________________________________________________________________________________\n",
      "conv2d_15 (Conv2D)               (None, 40, 40, 32)    320         input_3[0][0]                    \n",
      "____________________________________________________________________________________________________\n",
      "conv2d_16 (Conv2D)               (None, 40, 40, 32)    9248        conv2d_15[0][0]                  \n",
      "____________________________________________________________________________________________________\n",
      "activation_13 (Activation)       (None, 40, 40, 32)    0           conv2d_16[0][0]                  \n",
      "____________________________________________________________________________________________________\n",
      "max_pooling2d_7 (MaxPooling2D)   (None, 20, 20, 32)    0           activation_13[0][0]              \n",
      "____________________________________________________________________________________________________\n",
      "dropout_7 (Dropout)              (None, 20, 20, 32)    0           max_pooling2d_7[0][0]            \n",
      "____________________________________________________________________________________________________\n",
      "conv2d_17 (Conv2D)               (None, 20, 20, 64)    18496       dropout_7[0][0]                  \n",
      "____________________________________________________________________________________________________\n",
      "activation_14 (Activation)       (None, 20, 20, 64)    0           conv2d_17[0][0]                  \n",
      "____________________________________________________________________________________________________\n",
      "max_pooling2d_8 (MaxPooling2D)   (None, 10, 10, 64)    0           activation_14[0][0]              \n",
      "____________________________________________________________________________________________________\n",
      "dropout_8 (Dropout)              (None, 10, 10, 64)    0           max_pooling2d_8[0][0]            \n",
      "____________________________________________________________________________________________________\n",
      "conv2d_18 (Conv2D)               (None, 10, 10, 16)    9232        dropout_8[0][0]                  \n",
      "____________________________________________________________________________________________________\n",
      "activation_15 (Activation)       (None, 10, 10, 16)    0           conv2d_18[0][0]                  \n",
      "____________________________________________________________________________________________________\n",
      "conv2d_19 (Conv2D)               (None, 10, 10, 16)    2320        activation_15[0][0]              \n",
      "____________________________________________________________________________________________________\n",
      "activation_16 (Activation)       (None, 10, 10, 16)    0           conv2d_19[0][0]                  \n",
      "____________________________________________________________________________________________________\n",
      "conv2d_20 (Conv2D)               (None, 10, 10, 64)    9280        activation_16[0][0]              \n",
      "____________________________________________________________________________________________________\n",
      "add_3 (Add)                      (None, 10, 10, 64)    0           conv2d_20[0][0]                  \n",
      "                                                                   dropout_8[0][0]                  \n",
      "____________________________________________________________________________________________________\n",
      "input_11_2 (InputLayer)          (None, 200, 7)        0                                            \n",
      "____________________________________________________________________________________________________\n",
      "activation_17 (Activation)       (None, 10, 10, 64)    0           add_3[0][0]                      \n",
      "____________________________________________________________________________________________________\n",
      "gru_21_2 (GRU)                   (None, 200, 16)       1152        input_11_2[0][0]                 \n",
      "____________________________________________________________________________________________________\n",
      "conv2d_21 (Conv2D)               (None, 10, 10, 128)   73856       activation_17[0][0]              \n",
      "____________________________________________________________________________________________________\n",
      "dropout_21_2 (Dropout)           (None, 200, 16)       0           gru_21_2[0][0]                   \n",
      "____________________________________________________________________________________________________\n",
      "activation_18 (Activation)       (None, 10, 10, 128)   0           conv2d_21[0][0]                  \n",
      "____________________________________________________________________________________________________\n",
      "gru_22_2 (GRU)                   (None, 200, 32)       4704        dropout_21_2[0][0]               \n",
      "____________________________________________________________________________________________________\n",
      "max_pooling2d_9 (MaxPooling2D)   (None, 5, 5, 128)     0           activation_18[0][0]              \n",
      "____________________________________________________________________________________________________\n",
      "dropout_22_2 (Dropout)           (None, 200, 32)       0           gru_22_2[0][0]                   \n",
      "____________________________________________________________________________________________________\n",
      "dropout_9 (Dropout)              (None, 5, 5, 128)     0           max_pooling2d_9[0][0]            \n",
      "____________________________________________________________________________________________________\n",
      "flatten_3_2 (Flatten)            (None, 6400)          0           dropout_22_2[0][0]               \n",
      "____________________________________________________________________________________________________\n",
      "flatten_3 (Flatten)              (None, 3200)          0           dropout_9[0][0]                  \n",
      "____________________________________________________________________________________________________\n",
      "dense_23_2 (Dense)               (None, 64)            409664      flatten_3_2[0][0]                \n",
      "____________________________________________________________________________________________________\n",
      "dense_5 (Dense)                  (None, 512)           1638912     flatten_3[0][0]                  \n",
      "____________________________________________________________________________________________________\n",
      "dense_24_2 (Dense)               (None, 128)           8320        dense_23_2[0][0]                 \n",
      "____________________________________________________________________________________________________\n",
      "concatenate_1 (Concatenate)      (None, 640)           0           dense_5[0][0]                    \n",
      "                                                                   dense_24_2[0][0]                 \n",
      "____________________________________________________________________________________________________\n",
      "dense_1_1 (Dense)                (None, 512)           328192      concatenate_1[0][0]              \n",
      "____________________________________________________________________________________________________\n",
      "drop_1_1 (Dropout)               (None, 512)           0           dense_1_1[0][0]                  \n",
      "____________________________________________________________________________________________________\n",
      "dense_2_1 (Dense)                (None, 256)           131328      drop_1_1[0][0]                   \n",
      "____________________________________________________________________________________________________\n",
      "dense_3_1 (Dense)                (None, 2)             514         dense_2_1[0][0]                  \n",
      "====================================================================================================\n",
      "Total params: 2,645,538\n",
      "Trainable params: 2,645,538\n",
      "Non-trainable params: 0\n",
      "____________________________________________________________________________________________________\n"
     ]
    }
   ],
   "source": [
    "model_beast.summary()"
   ]
  },
  {
   "cell_type": "code",
   "execution_count": null,
   "metadata": {},
   "outputs": [],
   "source": []
  }
 ],
 "metadata": {
  "kernelspec": {
   "display_name": "Python 3",
   "language": "python",
   "name": "python3"
  },
  "language_info": {
   "codemirror_mode": {
    "name": "ipython",
    "version": 3
   },
   "file_extension": ".py",
   "mimetype": "text/x-python",
   "name": "python",
   "nbconvert_exporter": "python",
   "pygments_lexer": "ipython3",
   "version": "3.6.6"
  }
 },
 "nbformat": 4,
 "nbformat_minor": 2
}
